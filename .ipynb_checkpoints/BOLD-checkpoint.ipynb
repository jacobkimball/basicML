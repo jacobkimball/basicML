{
 "cells": [
  {
   "cell_type": "code",
   "execution_count": 3,
   "id": "finnish-seattle",
   "metadata": {},
   "outputs": [],
   "source": [
    "# This is my list of what I would like to put in these notebooks: \n",
    "    \n",
    "#    1. starting with Jupyter notebooks. Will move to colab if needed. Also may look into streamlit if desired. \n",
    "    \n",
    "#    Driving idea: don't reinvent the wheel here. The purpose here is to give them what they need to understand \n",
    "#    how to interface with the real biomed data. Give them a taste of the basics and links to other resources \n",
    "#    if they want to go deeper. \n",
    "\n",
    "#    background: super quick tutorial/link to tutorial on how to access/work with Github, jupyter notebooks or \n",
    "#    Google Colab for those who aren't familiar \n",
    "\n",
    "#    Algorithms to use: \n",
    "#         1. Regression\n",
    "#             a. linear regression \n",
    "#             b. random forest/XGBoost \n",
    "#             c. \n",
    "#         2. Classification\n",
    "#             a. kNN\n",
    "#             b. logistic regression\n",
    "#             c. SVM\n",
    "#             d. random forest/XGBoost \n",
    "#         3. Unsupervised \n",
    "#             a. these are going to be lowest priority...\n",
    "            \n",
    "            \n",
    "#     best practices to highlight: \n",
    "#         1. feature importance, model interpretation\n",
    "#         2. talk about getting data into the right format for processing\n",
    "#         3. intuition on hyperparameters \n",
    "#         4. what does the stupidest model look like? \n",
    "#         5. if it's too good to be true, it probably is. watch for mixing training/testing datasets. \n",
    "#         6. examples of amateur mistakes (mixing datasets/patients, not having a true test set, etc)\n",
    "#         7. do your best to get a good gold standard, but realize that even the best will still probably have noise or inconsistencies \n",
    "\n",
    "\n",
    "#     datasets: \n",
    "#         1. artificial or basic datasets in 2D or 3D for intuition on models (linear vs nonlinear, different class sizes)\n",
    "#         2. real bio datasets - wrist data? ECG classification? \n",
    "\n",
    "#     next steps: \n",
    "#         1. is there a way that I can make it so they can upload their own data/point to their own data and run my code? Or should I just tell them to copy what they like?\n"
   ]
  },
  {
   "cell_type": "code",
   "execution_count": 4,
   "id": "charming-contest",
   "metadata": {},
   "outputs": [
    {
     "name": "stdout",
     "output_type": "stream",
     "text": [
      "this is a test\n",
      "what does this look like?\n",
      "79\n",
      "11\n",
      "1530\n",
      "2025\n",
      "5.830951894845301\n"
     ]
    }
   ],
   "source": [
    "print('this is a test')\n",
    "\n",
    "print('what does this look like?')\n",
    "\n",
    "x = 45\n",
    "y = 34\n",
    "\n",
    "print(x+y)\n",
    "print(x-y)\n",
    "print(x*y)\n",
    "print(x**2)\n",
    "print(y**(1/2))"
   ]
  },
  {
   "cell_type": "code",
   "execution_count": 1,
   "id": "standard-bundle",
   "metadata": {},
   "outputs": [
    {
     "data": {
      "text/plain": [
       "17466"
      ]
     },
     "execution_count": 1,
     "metadata": {},
     "output_type": "execute_result"
    }
   ],
   "source": [
    "# now I'm adding more stuff for my github test. \n",
    "import numpy as np\n",
    "import pandas as pd\n",
    "\n",
    "123*142\n",
    "\n",
    "\n"
   ]
  },
  {
   "cell_type": "code",
   "execution_count": null,
   "id": "neural-brief",
   "metadata": {},
   "outputs": [],
   "source": []
  }
 ],
 "metadata": {
  "kernelspec": {
   "display_name": "Python 3",
   "language": "python",
   "name": "python3"
  },
  "language_info": {
   "codemirror_mode": {
    "name": "ipython",
    "version": 3
   },
   "file_extension": ".py",
   "mimetype": "text/x-python",
   "name": "python",
   "nbconvert_exporter": "python",
   "pygments_lexer": "ipython3",
   "version": "3.9.1"
  }
 },
 "nbformat": 4,
 "nbformat_minor": 5
}
